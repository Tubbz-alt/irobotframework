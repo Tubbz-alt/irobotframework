{
 "cells": [
  {
   "cell_type": "markdown",
   "metadata": {},
   "source": [
    "# Install\n",
    "> ## BASICALLY NONE OF THIS WORKS YET, WAIT FOR A [RELEASE](https://github.com/gtri/irobotframework/releases)\n",
    "\n",
    "The Robot Framework and Jupyter ecosystems are mostly homed in Python, and the `irobotframework` [Kernel](#Kernel) can be installed via the two most popular package managers, `pip` and `conda`. [JupyterLab](#JupyterLab-Extension) is a bit special."
   ]
  },
  {
   "cell_type": "markdown",
   "metadata": {},
   "source": [
    "## Kernel\n",
    "The latest stable release of the `irobotframework` kernel and all of its python dependencies can be installed with `conda` (recommended)...\n",
    "\n",
    "```bash\n",
    "# TODO conda install -c conda-forge irobotframework\n",
    "```\n",
    "\n",
    "or `pip`...\n",
    "\n",
    "```bash\n",
    "# TODO pip install irobotframework\n",
    "```\n",
    "\n",
    "> **NOTE** Neither of these will install `notebook` or `jupyterlab`, because sometimes you just want to run a kernel, such as in Continuous Integration."
   ]
  },
  {
   "cell_type": "markdown",
   "metadata": {},
   "source": [
    "## Lab Extension\n",
    "The companion JupyterLab extension, `jupyterlab-robotframework`, provides syntax highlighting and prettier documentation. It is distributed on `conda` and `npm`.\n",
    "\n",
    "With `conda`...\n",
    "```bash\n",
    "# TODO conda install -c conda-forge jupyterlab-robotframework\n",
    "#      jupyter lab build\n",
    "```\n",
    "> **NOTE** This will install `jupyterlab` and `nodejs`\n",
    "\n",
    "Or without `conda`\n",
    "```bash\n",
    "# TODO pip install jupyterlab\n",
    "# install nodejs... somehow...\n",
    "#    jupyter labextension install jupyterlab-robotframework\n",
    "```"
   ]
  },
  {
   "cell_type": "markdown",
   "metadata": {},
   "source": [
    "## Reproduce\n",
    "While the above commands are great for trying out `irobotframework`, if you are going to invest time in doing non-trivial work with Robot Framework, maintaining all your python and non-python dependencies in one file can be very helpful."
   ]
  },
  {
   "cell_type": "markdown",
   "metadata": {},
   "source": [
    "### conda env\n",
    "A `conda` environment is the simplest way to capture all your python and non-python dependencies\n",
    "\n",
    "Make an `environment.yml`:\n",
    "```yaml\n",
    "# environment.yml\n",
    "# TODO THIS DOESN'T WORK YET\n",
    "name: my-irobotframework-environment\n",
    "channels:\n",
    "  - conda-forge\n",
    "  - defaults\n",
    "dependencies:\n",
    "  - jupyterlab\n",
    "  - irobotframework\n",
    "  - jupyterlab-robotframework\n",
    "  ## uncomment these to do browser-based testing\n",
    "  # - robotframework-seleniumlibrary\n",
    "  # - geckodriver\n",
    "  # - python-chromedriver-binary\n",
    "```\n",
    "\n",
    "Update and activate the environment\n",
    "```bash\n",
    "conda env update\n",
    "conda activate my-irobotframework-environment\n",
    "```\n",
    "\n",
    "Rebuild JupyterLab\n",
    "```bash\n",
    "jupyter lab build\n",
    "```"
   ]
  },
  {
   "cell_type": "markdown",
   "metadata": {},
   "source": [
    "### Anaconda Project\n",
    "\n",
    "When you get into a serious stack of Robot Framework environment, you may find that capturing its dependencies separate from the system-under-test can be valuable. Further, actually _dealing_ with cross-platform issues, rather than sweeping them under the rug with Docker or Vagrant can reveal brittleness in the test environment and the system-under-test.\n",
    "\n",
    "While outside the scope of this document, it's worth mentioning [anaconda-project](https://anaconda-project.readthedocs.io/en/latest/). See this project's `anaconda-project.yml` and [contribution guide](./Contributing.ipynb) for a taste of what `anaconda-project` can do to enable reproducible, multi-platform environments."
   ]
  }
 ],
 "metadata": {
  "kernelspec": {
   "display_name": "Robot Framework",
   "language": "robotframework",
   "name": "robotframework"
  },
  "language_info": {
   "codemirror_mode": {
    "name": "Robot Framework"
   },
   "display_name": "Robot Framework",
   "file_extension": ".robot",
   "language": "robotframework",
   "mimetype": "text/x-robotframework",
   "name": "robotframework",
   "pygments_lexer": "robotframework",
   "version": "0.5.0"
  }
 },
 "nbformat": 4,
 "nbformat_minor": 2
}
