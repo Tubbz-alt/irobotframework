{
 "cells": [
  {
   "cell_type": "markdown",
   "metadata": {},
   "source": [
    "## IPython Magic\n",
    "Not to leave the upstream out, you can bring Robot Framework into your IPython kernel. Note that you won't get much help from the Inspector or completion... yet!\n",
    "\n",
    "First, `reload_ext` the `irobotframework` IPython extension."
   ]
  },
  {
   "cell_type": "code",
   "execution_count": null,
   "metadata": {},
   "outputs": [],
   "source": [
    "%reload_ext irobotframework"
   ]
  },
  {
   "cell_type": "markdown",
   "metadata": {},
   "source": [
    "Now you can start cells with `%%robot` and get the same Robot outputs as from the `irobotframework` Kernel. "
   ]
  },
  {
   "cell_type": "code",
   "execution_count": null,
   "metadata": {},
   "outputs": [],
   "source": [
    "%%robot\n",
    "*** Tasks ***\n",
    "This will Fail\n",
    "    This is not a keyword"
   ]
  },
  {
   "cell_type": "markdown",
   "metadata": {},
   "source": [
    "### Fail\n",
    "The above failed with a `RobotMagicError`. If you want to _show_ a failing test as part of your notebook narrative and continue execution, pass `--noraise`."
   ]
  },
  {
   "cell_type": "code",
   "execution_count": null,
   "metadata": {},
   "outputs": [],
   "source": [
    "%%robot --no-raise\n",
    "*** Tasks ***\n",
    "This will Fail\n",
    "    This is not a keyword"
   ]
  },
  {
   "cell_type": "markdown",
   "metadata": {},
   "source": [
    "### Return\n",
    "Useful, but what if you want to find out more? `--return` the test [results](https://github.com/robotframework/robotframework/blob/master/src/robot/result/executionresult.py)!"
   ]
  },
  {
   "cell_type": "code",
   "execution_count": null,
   "metadata": {},
   "outputs": [],
   "source": [
    "%%robot --no-raise --return\n",
    "*** Tasks ***\n",
    "This will Fail\n",
    "    This is not a keyword"
   ]
  },
  {
   "cell_type": "markdown",
   "metadata": {},
   "source": [
    "You can then pull the result off with `_`...."
   ]
  },
  {
   "cell_type": "code",
   "execution_count": null,
   "metadata": {},
   "outputs": [],
   "source": [
    "results = _\n",
    "results"
   ]
  },
  {
   "cell_type": "markdown",
   "metadata": {},
   "source": [
    "Which has lots of useful things, like statistics:"
   ]
  },
  {
   "cell_type": "code",
   "execution_count": null,
   "metadata": {},
   "outputs": [],
   "source": [
    "vars(results.statistics.total.all)"
   ]
  },
  {
   "cell_type": "markdown",
   "metadata": {},
   "source": [
    "### Assign"
   ]
  },
  {
   "cell_type": "markdown",
   "metadata": {},
   "source": [
    "Or, if you're going to do more work with the suite output, you can `--assign` it to a variable:"
   ]
  },
  {
   "cell_type": "code",
   "execution_count": null,
   "metadata": {},
   "outputs": [],
   "source": [
    "%%robot --assign other_results\n",
    "*** Tasks ***\n",
    "This will Fail\n",
    "    This is not a keyword"
   ]
  },
  {
   "cell_type": "code",
   "execution_count": null,
   "metadata": {},
   "outputs": [],
   "source": [
    "other_results.statistics.total.all.failed"
   ]
  },
  {
   "cell_type": "markdown",
   "metadata": {},
   "source": [
    "### Jinja\n",
    "[Jinja](http://jinja.pocoo.org/docs/2.10/templates/) is the templating library of choice in the Jupyter ecosystem. It uses `{{ print_this }}` and `{% do_that %}{% end_that %}`, so it doesn't conflict with Robot syntax. \n",
    "\n",
    "If you have it installed in your environment (e.g. you installed `notebook` or `jupyterlab`), you can use the `--jinja` argument (which optionally accepts the name of a `dict`-like variable) to do string replacement of your Robot code:"
   ]
  },
  {
   "cell_type": "code",
   "execution_count": null,
   "metadata": {},
   "outputs": [],
   "source": [
    "how_long = 1000"
   ]
  },
  {
   "cell_type": "code",
   "execution_count": null,
   "metadata": {},
   "outputs": [],
   "source": [
    "%%robot --jinja --no-raise\n",
    "*** Variables ***\n",
    "${tusks collected}  ${0}\n",
    "${tusks needed}  ${65340285}\n",
    "${hp}  ${10}\n",
    "\n",
    "*** Tasks ***\n",
    "Go Adventuring\n",
    "{% for i in range(how_long) %}\n",
    "    Fight a boar\n",
    "{% endfor %}\n",
    "    Bring tusks to townsperson\n",
    "\n",
    "*** Keywords ***\n",
    "Fight a Boar\n",
    "    ${d12} =  Evaluate  random.randint(1, 12)  random\n",
    "    Run Keyword If  ${d12} < 5  The Boar Hits You\n",
    "    ...  ELSE IF  ${d12} > 8  Collect a Boar Tusk\n",
    "    \n",
    "Collect a Boar Tusk\n",
    "    Set Global Variable  ${tusks collected}  ${tusks collected + 1}\n",
    "\n",
    "Bring Tusks to Townsperson\n",
    "    Should be Equal as Integers  ${tusks collected}  ${tusks needed}\n",
    "    ...   msg=*HTML* <h1>You need ${tusks needed - ${tusks collected} / 1e6} more megatusks</h1>\n",
    "\n",
    "The Boar Hits You\n",
    "    Set Global Variable  ${hp}  ${hp-1}\n",
    "    Should be True  ${hp}  msg=*HTML* <h1>You were defeated</h1>"
   ]
  }
 ],
 "metadata": {
  "kernelspec": {
   "display_name": "Python 3",
   "language": "python",
   "name": "python3"
  },
  "language_info": {
   "codemirror_mode": {
    "name": "ipython",
    "version": 3
   },
   "file_extension": ".py",
   "mimetype": "text/x-python",
   "name": "python",
   "nbconvert_exporter": "python",
   "pygments_lexer": "ipython3",
   "version": "3.6.7"
  },
  "nbsphinx": {
   "allow_errors": true
  }
 },
 "nbformat": 4,
 "nbformat_minor": 2
}
