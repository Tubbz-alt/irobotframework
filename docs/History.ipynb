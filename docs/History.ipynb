{
 "cells": [
  {
   "cell_type": "markdown",
   "metadata": {},
   "source": [
    "# History"
   ]
  },
  {
   "cell_type": "markdown",
   "metadata": {},
   "source": [
    "## 0.5.0\n",
    "\n",
    "- Overhaul magics and completion, and expose them at top-level\n",
    "    - add magic completion"
   ]
  },
  {
   "cell_type": "markdown",
   "metadata": {},
   "source": [
    "## 0.4.1\n",
    "\n",
    "- The IPython `%%robot` magic learned how to:\n",
    "    - raise a `RobotMagicError` on a failed test run (or `--noraise`)\n",
    "    - optionally\n",
    "        - `--return` the test results\n",
    "        - `--assign` the test results to a variable\n",
    "        - `--jinja` the test suite with the user's local variables (or a given variable)\n",
    "- More thorough code commenting\n",
    "- More tests"
   ]
  },
  {
   "cell_type": "markdown",
   "metadata": {},
   "source": [
    "## 0.4.0\n",
    "\n",
    "- Upgrade to [Robot Framework 3.1][rf31]\n",
    "  - Includes new [Robot Process Automation][rpa] syntax and terminology\n",
    "\n",
    "[rf31]: https://github.com/robotframework/robotframework/blob/master/doc/releasenotes/rf-3.1.rst\n",
    "[rpa]: https://en.wikipedia.org/wiki/Robotic_process_automation"
   ]
  },
  {
   "cell_type": "markdown",
   "metadata": {},
   "source": [
    "## 0.3.0\n",
    "\n",
    "- Upgrade to [JupyterLab 0.35][jlab35]\n",
    "\n",
    "[jlab35]: https://jupyterlab.readthedocs.io/en/stable/getting_started/changelog.html#v0-35-0"
   ]
  },
  {
   "cell_type": "markdown",
   "metadata": {},
   "source": [
    "## 0.2.1\n",
    "\n",
    "- Importing of `.robot` resource files and IPython notebooks with [importnb](https://github.com/deathbeds/importnb)"
   ]
  },
  {
   "cell_type": "markdown",
   "metadata": {},
   "source": [
    "## 0.2.0\n",
    "\n",
    "- Brand-new HTML documentation\n",
    "- Upgrade minimum IPython to [7][ipy7] and IPykernel to 5\n",
    "- Re-work some internals around cell id\n",
    "\n",
    "[ipy7]: https://ipython.readthedocs.io/en/stable/whatsnew/version7.html"
   ]
  },
  {
   "cell_type": "markdown",
   "metadata": {},
   "source": [
    "## 0.1.1\n",
    "\n",
    "- Minor fixes for completion"
   ]
  },
  {
   "cell_type": "markdown",
   "metadata": {},
   "source": [
    "## 0.1.0\n",
    "\n",
    "- Initial internal release"
   ]
  }
 ],
 "metadata": {
  "kernelspec": {
   "display_name": "Robot Framework",
   "language": "robotframework",
   "name": "robotframework"
  },
  "language_info": {
   "codemirror_mode": {
    "name": "Robot Framework"
   },
   "display_name": "Robot Framework",
   "file_extension": ".robot",
   "language": "robotframework",
   "mimetype": "text/x-robotframework",
   "name": "robotframework",
   "pygments_lexer": "robotframework",
   "version": "0.4.1"
  }
 },
 "nbformat": 4,
 "nbformat_minor": 2
}
