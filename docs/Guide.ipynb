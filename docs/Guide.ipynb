{
 "cells": [
  {
   "cell_type": "markdown",
   "metadata": {},
   "source": [
    "# Use\n",
    "After [installing](./Installation.ipynb), `irobotkernel` should function like any other Jupyter Kernel. This guide will cover use of `irobotframework` as both an interactive tool in [JupyterLab](#Lab) which can feed into [command-line](#CLI) tools, such as you might use in continuous integration. Finally, Notebook documents (like this one) can be part of an [nbsphinx](#nbsphinx) documentation suite."
   ]
  },
  {
   "cell_type": "markdown",
   "metadata": {},
   "source": [
    "## Lab\n",
    "First, start JupyterLab. You may also need to activate your environment.\n",
    "\n",
    "    jupyter lab\n",
    "    \n",
    "If you haven't launched JupyterLab before, you should see something like this:\n",
    "\n",
    "![The JupyterLab Launcher](./_static/screenshots/guide/00_before.png)\n",
    "\n",
    "Get started by clicking on the `Robot Fram...`(sic) card. You should see a new notebook:\n",
    "\n",
    "![A Robot Notebook in JupyterLab](./_static/screenshots/guide/01_new.png)"
   ]
  },
  {
   "cell_type": "markdown",
   "metadata": {},
   "source": [
    "### Write\n",
    "The heart of the Robot Framework are writing plain-language **[Test Cases](http://robotframework.org/robotframework/latest/RobotFrameworkUserGuide.html#creating-test-cases)** and **[Tasks](http://robotframework.org/robotframework/latest/RobotFrameworkUserGuide.html#creating-tasks)**. In the first cell, you can write your first test, like this:"
   ]
  },
  {
   "cell_type": "code",
   "execution_count": null,
   "metadata": {},
   "outputs": [],
   "source": [
    "*** Test Cases ***\n",
    "Hello, robot!\n",
    "   Log  Hello, robot!\n",
    "   Should Be Equal As Numbers  1  1"
   ]
  },
  {
   "cell_type": "markdown",
   "metadata": {},
   "source": [
    "Clicking the **Log** or **Report** button above should open a new browser tab (for now) of the content:\n",
    "\n",
    "| Log | Report |\n",
    "|-----|--------|\n",
    "| ![](./_static/screenshots/guide/log.png) | ![](./_static/screenshots/guide/report.png) |\n",
    "| shows a collapsible tree of the suites, tests, tasks and keywords | shows a filterable table of suites of tests/tasks |"
   ]
  },
  {
   "cell_type": "markdown",
   "metadata": {},
   "source": [
    "#### Tasks\n",
    "With [Robot Framework 3.1][rf31], a new type of executable activity is available: **Tasks**. These can be used interchangeably with **Test Cases**, but can't be used together in the same Notebook.\n",
    "\n",
    "[rf31]: https://github.com/robotframework/robotframework/blob/master/doc/releasenotes/rf-3.1.rst"
   ]
  },
  {
   "cell_type": "code",
   "execution_count": null,
   "metadata": {},
   "outputs": [],
   "source": [
    "*** Tasks ***\n",
    "Hello, robot!\n",
    "   Log  Hello, robot!\n",
    "   Should Be Equal As Numbers  1  1"
   ]
  },
  {
   "cell_type": "markdown",
   "metadata": {},
   "source": [
    "So pretty much pick one or the other!"
   ]
  },
  {
   "cell_type": "markdown",
   "metadata": {},
   "source": [
    "### Keywords\n",
    "The reusable pieces of **Tests Cases** and **Tasks** are [**Keywords**](http://robotframework.org/robotframework/latest/RobotFrameworkUserGuide.html#creating-user-keywords). You can define keywords anywhere in the same cell as where you use them."
   ]
  },
  {
   "cell_type": "code",
   "execution_count": null,
   "metadata": {},
   "outputs": [],
   "source": [
    "*** Test Cases ***\n",
    "Have a nice day\n",
    "    Have a nice day\n",
    "\n",
    "*** Keywords ***\n",
    "Have a ${kind of} day\n",
    "    Log  It is a ${kind of} day!\n",
    "    Should Not Contain  ${kind of}  bad   msg=I guess it was a ${kind of} day"
   ]
  },
  {
   "cell_type": "markdown",
   "metadata": {},
   "source": [
    "And now as long as your kernel is running, you'll be able to reuse that keyword:"
   ]
  },
  {
   "cell_type": "code",
   "execution_count": null,
   "metadata": {},
   "outputs": [],
   "source": [
    "*** Test Cases ***\n",
    "Have a not-so-nice day\n",
    "    Have a terrible, horrible, no-good, very bad day"
   ]
  },
  {
   "cell_type": "markdown",
   "metadata": {},
   "source": [
    "### Settings\n",
    "While you are building an `irobotframework` Notebook, you're actually continuously adding to a **[Suite](http://robotframework.org/robotframework/latest/RobotFrameworkUserGuide.html#creating-test-suites)**, with **Settings** that propagate down to all the tests... typically, you would create these either in a separate cell _before_ running any tests or tasks."
   ]
  },
  {
   "cell_type": "code",
   "execution_count": null,
   "metadata": {},
   "outputs": [],
   "source": [
    "*** Settings ***\n",
    "Documentation   This is my suite.\n",
    "Force Tags   days\n",
    "\n",
    "*** Test Cases ***\n",
    "Have a decent day\n",
    "    [Tags]  pretty-good\n",
    "    Have a pretty good day"
   ]
  },
  {
   "cell_type": "markdown",
   "metadata": {},
   "source": [
    "> _Note that the log now contains your documentation, and the test run has a tag from its **Suite**, as well as it's own. Also, now all test runs from here on out will also have the `days` tag!_"
   ]
  },
  {
   "cell_type": "markdown",
   "metadata": {},
   "source": [
    "### Libraries\n",
    "While it's great to write your own keywords in the language of your application and users, following the pattern of python's \"batteries included\", Robot Framework (and therefore `irobotframework`) includes a number of powerful **[Libraries](http://robotframework.org/robotframework/latest/RobotFrameworkUserGuide.html#using-test-libraries)**. The keywords like **Log** and **Should not Contain** come from the **[BuiltIn](http://robotframework.org/robotframework/latest/libraries/BuiltIn.html)** library, and are always available, while others need to be imported with a `Library` setting."
   ]
  },
  {
   "cell_type": "code",
   "execution_count": null,
   "metadata": {},
   "outputs": [],
   "source": [
    "*** Settings ***\n",
    "Library   OperatingSystem\n",
    "\n",
    "*** Test Cases ***\n",
    "How big is this file?\n",
    "    ${size} =  Get File Size  Guide.ipynb\n",
    "    Log   ${size / 1024} kilobytes"
   ]
  },
  {
   "cell_type": "markdown",
   "metadata": {},
   "source": [
    "#### More Libraries\n",
    "A lot of other libraries (of various quality and states of maintenance) are available from [PyPI](https://pypi.org/search/?q=&c=Framework+%3A%3A+Robot+Framework+%3A%3A+Library). However, you can also create your own, with the `%%python module` magic:"
   ]
  },
  {
   "cell_type": "code",
   "execution_count": null,
   "metadata": {},
   "outputs": [],
   "source": [
    "%%python module MyLibrary\n",
    "def get_greeting(to_whom: str=\"World\") -> str:\n",
    "    return f\"Hello, {to_whom}\""
   ]
  },
  {
   "cell_type": "markdown",
   "metadata": {},
   "source": [
    "> _Note that you can't define Robot syntax and Python in the same cell!_"
   ]
  },
  {
   "cell_type": "code",
   "execution_count": null,
   "metadata": {},
   "outputs": [],
   "source": [
    "*** Settings ***\n",
    "Library  MyLibrary\n",
    "\n",
    "*** Test Cases ***\n",
    "Use my library\n",
    "    ${greeting} =  Get Greeting\n",
    "    Log  ${greeting}"
   ]
  },
  {
   "cell_type": "markdown",
   "metadata": {},
   "source": [
    "Or even import IPython notebooks, like [MyOtherLibrary](./examples/MyOtherLibrary.ipynb), which is inside a subdirectory with an `__init__.py`."
   ]
  },
  {
   "cell_type": "code",
   "execution_count": null,
   "metadata": {},
   "outputs": [],
   "source": [
    "*** Settings ***\n",
    "Library  examples.MyOtherLibrary\n",
    "\n",
    "*** Test Cases ***\n",
    "My Other Library is also...\n",
    "    ${greeting} =  Get Greeting\n",
    "    Log  ${greeting}\n",
    "    ${farewell} =  Get Farewell\n",
    "    Log  ${farewell}"
   ]
  },
  {
   "cell_type": "markdown",
   "metadata": {},
   "source": [
    "### Resources\n",
    "In addition to keywords defined in python, you can also reuse `.robot` files and `.ipynb` as **[Resources](http://robotframework.org/robotframework/latest/RobotFrameworkUserGuide.html#resource-and-variable-files)**. Resources **Settings** and **Variables** will become available, but won't execute any **Test Cases** or **Tasks**."
   ]
  },
  {
   "cell_type": "code",
   "execution_count": null,
   "metadata": {},
   "outputs": [],
   "source": [
    "*** Settings ***\n",
    "Resource  examples/MyOtherResource.ipynb\n",
    "Resource  examples/MyResource.robot\n",
    "\n",
    "*** Test Cases ***\n",
    "Asking questions\n",
    "   ${answer} =  Ask The Question  \n",
    "   ...    How many roads must a small, furry creature from Andromeda walk down?\n",
    "   Should Be Equal As Numbers  ${answer}  42"
   ]
  },
  {
   "cell_type": "markdown",
   "metadata": {},
   "source": [
    "### Rich Output\n",
    "One of the most important components of the Jupyter ecosystem are the messages and client implementations of [rich output](https://ipython.readthedocs.io/en/stable/interactive/plotting.html#rich-outputs). These allow for pusbing visual and interactive components to clients without knowing much at all about HTML, CSS, and JavaScript."
   ]
  },
  {
   "cell_type": "markdown",
   "metadata": {},
   "source": [
    "#### Basics\n",
    "Using `IPython.display` as a [Library](http://robotframework.org/robotframework/latest/RobotFrameworkUserGuide.html#using-test-libraries), we gain all of the rich display powers of IPython. Note that these appear in the _output_ of the notebook, not in the Robot Log."
   ]
  },
  {
   "cell_type": "code",
   "execution_count": null,
   "metadata": {},
   "outputs": [],
   "source": [
    "*** Settings ***\n",
    "Library  IPython.display\n",
    "\n",
    "*** Variables ***\n",
    "${x}  1\n",
    "${y}  2\n",
    "&{point}  x=${x}  y=${y}\n",
    "\n",
    "*** Test Cases ***\n",
    "The Two Worlds\n",
    "    Display HTML  <h1>This goes in the notebook</h1>  raw=True\n",
    "    Log  <h1>This goes in the report</h1>  html=True\n",
    "    Run Keyword If  ${x} == ${1}\n",
    "    ...  Display Markdown  > Markdown works:\\n\\- x: ${x}\\n- y: ${y}</h2>  raw=True\n",
    "    Display JSON  ${point}  raw=True\n",
    "    Log  ${point}"
   ]
  },
  {
   "cell_type": "markdown",
   "metadata": {},
   "source": [
    "#### Widgets\n",
    "Beyond basic visualization, [Jupyter Widgets](http://jupyter.org/widgets) can create entire interactive applications with just a few lines of code.\n",
    "\n",
    "> Example TBD"
   ]
  },
  {
   "cell_type": "markdown",
   "metadata": {},
   "source": [
    "## CLI\n",
    "Now that you have some Robot notebooks, you can run them at the command line with [nbconvert](https://github.com/jupyter/nbconvert). We're going to use the powerful **[Process](http://robotframework.org/robotframework/latest/libraries/Process.html)** library to call `nbconvert`, and transform our example resource into HTML after `--execute`ing all of the Robot Tasks it contains."
   ]
  },
  {
   "cell_type": "code",
   "execution_count": null,
   "metadata": {},
   "outputs": [],
   "source": [
    "*** Settings ***\n",
    "Library  Process\n",
    "\n",
    "*** Test Cases ***\n",
    "Convert a Robot Notebook and stop on errors\n",
    "    ${res} =  Run Process    jupyter  nbconvert  examples/MyOtherResource.ipynb  --execute\n",
    "    ...  --output  ../_static/DoesntGetCreated\n",
    "    Should Be Equal As Integers  ${res.rc}  0  msg=${res.stderr}"
   ]
  },
  {
   "cell_type": "markdown",
   "metadata": {},
   "source": [
    "Oh no! A **Task** failed, but didn't generate any HTML. In the command line, `nbconvert` would have returned a non-zero result, so would stop further execution. Usually, this is the behavior you _want_, as interactively-developed behaviors often build on each other in a procedural fashion. However, not getting your report out is pretty bad.\n",
    "\n",
    "**However**, if since we are _expecting_ errors in this document, and still want to run everything, you can add `--ExecutePreprocessor.allow_errors=True` to continue after encountering the first error. Also, we set the `--output AllMyOtherResource` so that we can see the difference."
   ]
  },
  {
   "cell_type": "code",
   "execution_count": null,
   "metadata": {},
   "outputs": [],
   "source": [
    "*** Settings ***\n",
    "Library  Process\n",
    "\n",
    "*** Test Cases ***\n",
    "Convert a Robot Notebook and ignore errors\n",
    "    ${res} =  Run Process    jupyter  nbconvert  examples/MyOtherResource.ipynb  --execute\n",
    "    ...    --output  ../_static/AllMyOtherResource  --execute  --ExecutePreprocessor.allow_errors\\=True\n",
    "    Should Be Equal As Integers  ${res.rc}  0  msg=${res.stderr}"
   ]
  },
  {
   "cell_type": "markdown",
   "metadata": {},
   "source": [
    "Now we can see the failing task and the succcesful one in this [HTML](../_static/examples/AllMyOtherResource.html). In the future, other approaches might be available, such as a more selective converter."
   ]
  },
  {
   "cell_type": "markdown",
   "metadata": {},
   "source": [
    "## nbsphinx\n",
    "\n",
    "[nbsphinx](https://github.com/spatialaudio/nbsphinx) provides a number of neat ways to use notebooks as part of a larger [sphinx](https://www.sphinx-doc.org) documentation suite. Sphinx can be a bit imposing at first, but can generate really nice documentation, along with pre-executed notebooks, or better yet as part of your overall testing procedure."
   ]
  }
 ],
 "metadata": {
  "kernelspec": {
   "display_name": "Robot Framework",
   "language": "robotframework",
   "name": "robotframework"
  },
  "language_info": {
   "codemirror_mode": {
    "name": "Robot Framework"
   },
   "display_name": "Robot Framework",
   "file_extension": ".robot",
   "language": "robotframework",
   "mimetype": "text/x-robotframework",
   "name": "robotframework",
   "pygments_lexer": "robotframework",
   "version": "0.5.0"
  },
  "nbsphinx": {
   "allow_errors": true
  }
 },
 "nbformat": 4,
 "nbformat_minor": 2
}
