{
 "cells": [
  {
   "cell_type": "markdown",
   "metadata": {},
   "source": [
    "# irobotframework\n",
    "\n",
    "> _Interactive Acceptance Test-Driven Development and Robot Process Automation, powered by_ [IPython](http://ipython.org) _and_ [Robot Framework](https://robotframework.org)\n",
    "\n",
    "**Quick Links** [Install](./Installation.ipynb) | [Guide](./Guide.ipynb) | [Extend](./Extending.ipynb) | [Contribute](./Contributing.ipynb) | [Limits](./Limits.ipynb) | [History](./History.ipynb) | [Thank](./Authors.ipynb)"
   ]
  },
  {
   "cell_type": "markdown",
   "metadata": {},
   "source": [
    "## Features\n",
    "\n",
    "| Feature | Screenshot |\n",
    "|---------|------------|\n",
    "| _Launch Robot Framework as a Notebook, Console or edit Robot files_ | [![][screenshot_launcher]][screenshot_launcher]\n",
    "| _Get rich completion of Robot language features, Libraries, Keywords and Variables_ | [![][screenshot_complete]][screenshot_complete]\n",
    "| _Inspect Libraries and Keywords... even ones you're writing_ | [![][screenshot_inspect]][screenshot_inspect]\n",
    "| _Work with Robot in IPython as an extension_ | [![][screenshot_magic]][screenshot_magic]\n",
    "| _Use Console and Rich display_ | [![][screenshot_console]][screenshot_console]\n",
    "\n",
    "\n",
    "\n",
    "\n",
    "[screenshot_complete]: ./_static/screenshots/screenshot_complete.png\n",
    "[screenshot_console]: ./_static/screenshots/screenshot_console.png\n",
    "[screenshot_inspect]: ./_static/screenshots/screenshot_inspect.png\n",
    "[screenshot_launcher]: ./_static/screenshots/screenshot_launcher.png\n",
    "[screenshot_magic]: ./_static/screenshots/screenshot_magic.png\n"
   ]
  },
  {
   "cell_type": "markdown",
   "metadata": {},
   "source": [
    "## Alternatives\n",
    "\n",
    "Open source Innovation is driven by competition and sharing. If [irobotframework][] doesn't\n",
    "meet your needs, here are some other open source environments that inspired it:\n",
    "\n",
    "- [RED][red] from [nokia](https://github.com/nokia), powered by the Eclipse Platform\n",
    "- [RIDE][ride] from [robotframework](https://github.com/robotframework), a standalone desktop application \n",
    "- [robotkernel][robotkernel] from [datakurre](https://github.com/datakurre) another Jupyter Kernel, and the inspiration for irobotframework\n",
    "\n",
    "| Feature               | irobotframework | robotkernel     | RIDE     | RED    |\n",
    "|-----------------------|---------------------|--------------------|-------------|------------|\n",
    "| License               | BSD-3-Clause        | BSD-3-Clause       | Apache-2.0  | Apache-2.0 |\n",
    "| Syntax Highlighting   | ✓                   | ✓                  | ✓           | ✓          |\n",
    "| Test Execution        | ✓                   | ✓                  | ✓           | ✓          |\n",
    "| Live Documentation    | ✓                   | &nbsp;             | ✓           | ✓          |\n",
    "| Step-Through Debugger | &nbsp;              | &nbsp;             | ?           | ✓          |\n",
    "| Jupyter Integration   | ✓                   | ✓                  | &nbsp;      | &nbsp;     |\n",
    "| Rich Media Output     | ✓                   | &nbsp;             | &nbsp;      | &nbsp;     |\n",
    "\n",
    "[red]: https://github.com/nokia/RED\n",
    "[ride]: https://github.com/robotframework/RIDE\n",
    "[robot]: http://robotframework.org/\n",
    "[robotkernel]: https://github.com/datakurre/robotkernel\n",
    "[irobotframework]: https://github.com/gtri/irobotframework"
   ]
  },
  {
   "cell_type": "markdown",
   "metadata": {},
   "source": [
    "## Free Software\n",
    "\n",
    "Contains code derived from:\n",
    "\n",
    "- [robotkernel][]: [BSD-3-Clause][robotkernel_license]\n",
    "- [IPython](https://github.com/ipython/ipython): [BSD-3-Clause][ipython_license]\n",
    "- [robotframework][robot]: [Apache-2.0][robot_license]\n",
    "\n",
    "> _Copyright &copy; 2018 Georgia Tech Research Corporation_\n",
    ">\n",
    "> _Distributed under the terms of the_ [BSD-3-Clause][] _License_\n",
    "\n",
    "\n",
    "\n",
    "[BSD-3-Clause]: https://github.com/gtri/irobotframework\n",
    "[irobotframework]: https://github.com/gtri/irobotframework\n",
    "[ipython_license]: https://github.com/ipython/ipython/blob/master/LICENSE\n",
    "[ipython]: https://ipython.org/\n",
    "[jupyterlab]: https://github.com/jupyterlab/jupyterlab\n",
    "[ride]: https://github.com/robotframework/RIDE\n",
    "[robot_license]: https://github.com/robotframework/robotframework/blob/master/LICENSE.txt\n",
    "[robot]: http://robotframework.org/\n",
    "[robotkernel_license]: https://github.com/datakurre/robotkernel/blob/master/LICENSE\n",
    "[robotkernel]: https://github.com/datakurre/robotkernel"
   ]
  },
  {
   "cell_type": "markdown",
   "metadata": {
    "nbsphinx-toctree": {
     "maxdepth": 2
    }
   },
   "source": [
    "## More\n",
    "- [Install](./Installation.ipynb)\n",
    "- [Use](./Guide.ipynb)\n",
    "- [Magic](./Magic.ipynb)\n",
    "- [Extend](./Extending.ipynb)\n",
    "- [Contribute](./Contributing.ipynb)\n",
    "- [Limits](./Limits.ipynb)\n",
    "- [History](./History.ipynb)\n",
    "- [Thank](./Authors.ipynb)"
   ]
  }
 ],
 "metadata": {
  "kernelspec": {
   "display_name": "Robot Framework",
   "language": "robotframework",
   "name": "robotframework"
  },
  "language_info": {
   "codemirror_mode": {
    "name": "Robot Framework"
   },
   "display_name": "Robot Framework",
   "file_extension": ".robot",
   "language": "robotframework",
   "mimetype": "text/x-robotframework",
   "name": "robotframework",
   "pygments_lexer": "robotframework",
   "version": "0.5.0"
  }
 },
 "nbformat": 4,
 "nbformat_minor": 2
}
