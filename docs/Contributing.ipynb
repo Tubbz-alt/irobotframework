{
 "cells": [
  {
   "cell_type": "markdown",
   "metadata": {},
   "source": [
    "# Contribute"
   ]
  },
  {
   "cell_type": "markdown",
   "metadata": {},
   "source": [
    "## Wanted\n",
    "\n",
    "- More test coverage\n",
    "- More documentation\n",
    "- Useful magics\n",
    "- JupyterLab MIME renderer for Robot `output.xml`"
   ]
  },
  {
   "cell_type": "markdown",
   "metadata": {},
   "source": [
    "## Hack\n",
    "\n",
    "The Kernel and the JupyterLab extension are developed in tandem in the same environment.\n",
    "\n",
    "[Fork the repo](https://github.com/gtri/irobotframework), and clone it locally...\n",
    "\n",
    "    git clone https://github.com/gtri/irobotframework\n",
    "\n",
    "Get [Miniconda](https://conda.io/miniconda.html).\n",
    "\n",
    "Get [anaconda-project](https://github.com/Anaconda-Platform/anaconda-project)...\n",
    "\n",
    "    conda install -n base anaconda-project\n",
    "\n",
    "In the repo, run **bootstrap** the `default` environment...\n",
    "\n",
    "    anaconda-project run bootstrap\n",
    "    anaconda-project run jlpm bootstrap\n",
    "\n",
    "Start the **TypeScript** watcher...\n",
    "\n",
    "    anaconda-project run jlpm watch\n",
    "\n",
    "...and in a separate terminal, start the **JupyterLab** watcher...\n",
    "\n",
    "    anaconda-project run lab --watch\n",
    "\n",
    "Start **doing work**, and enjoy live rebuilding, available after refreshing your page. Kernel changes will require restarting your kernel.\n",
    "\n",
    "Keep the [quality](#Quality) high by running (and adding) tests, and ensuring your code meets the formatting standards.\n",
    "\n",
    "Make a [pull request](https://github.com/gtri/irobotframework)!"
   ]
  },
  {
   "cell_type": "markdown",
   "metadata": {},
   "source": [
    "## Quality\n",
    "\n",
    "Code quality is assured in a separate `test` environment. Get it ready with **bootstrap**:\n",
    "\n",
    "    anaconda-project run --env-spec test bootstrap\n",
    "    anaconda-project run --env-spec test jlpm bootstrap\n",
    "\n",
    "Who wants ugly code? Squash all your syntax opinions...\n",
    "\n",
    "    anaconda-project run test:lint\n",
    "\n",
    "Try to keep the coverage up by adding [unit tests](https://github.com/gtri/irobotframework/src/irobotframework/tests)...\n",
    "\n",
    "    anaconda-project run test:py\n",
    "\n",
    "Make sure everything is on the up-and-up with [integration tests](https://github.com/gtri/irobotframework/src/atest)...\n",
    "\n",
    "    anaconda-project run test:robot\n"
   ]
  },
  {
   "cell_type": "markdown",
   "metadata": {},
   "source": [
    "## Document\n",
    "Documentation is pretty important, as is pretty documentation. Docs are built from `irobotframework` and IPython notebooks with [nbsphinx](https://github.com/spatialaudio/nbsphinx), and can be updated automatically on save with:\n",
    "\n",
    "    anaconda-project run --env-spec docs bootstrap\n",
    "    anaconda-project run build:docs:watch\n",
    "\n",
    "> This will tell you which port to visit in your browser.\n",
    "\n",
    "This contributes to [Quality](#Quality), as the notebooks are executed prior to run, though some of them _anticipate_ failure, and proceed anyway.\n",
    "\n",
    "> Don't check in notebooks with outputs!"
   ]
  },
  {
   "cell_type": "markdown",
   "metadata": {},
   "source": [
    "## Build\n",
    "\n",
    "This is mostly handled by CI, but you can **build** all of the output packages into `./dist`.\n",
    "\n",
    "    anaconda-project run build:pip:sdist\n",
    "    anaconda-project run build:pip:wheel\n",
    "    anaconda-project run build:npm\n",
    "    anaconda-project run build:conda\n",
    "    anaconda-project run build:docs\n"
   ]
  },
  {
   "cell_type": "markdown",
   "metadata": {},
   "source": [
    "## Release\n",
    "This is _also_ mostly handled by CI, but here is the rough outline.\n",
    "\n",
    "Clear out your repo (or do a fresh checkout)...\n",
    "   \n",
    "    git clean -dxf\n",
    "\n",
    "Preflight the release...\n",
    "\n",
    "    anaconda-project run test:release\n",
    "   \n",
    "If you had to make any changes, go ahead and fix them, and rebuild everything.\n",
    "\n",
    "    anaconda-project run jlpm lerna publish\n",
    "    twine upload dist/pip/*\n",
    "\n",
    "Wait for the bot to pick up the changes on `conda-forge`."
   ]
  }
 ],
 "metadata": {
  "kernelspec": {
   "display_name": "Robot Framework",
   "language": "robotframework",
   "name": "robotframework"
  },
  "language_info": {
   "codemirror_mode": {
    "name": "Robot Framework"
   },
   "display_name": "Robot Framework",
   "file_extension": ".robot",
   "language": "robotframework",
   "mimetype": "text/x-robotframework",
   "name": "robotframework",
   "pygments_lexer": "robotframework",
   "version": "0.5.0"
  }
 },
 "nbformat": 4,
 "nbformat_minor": 2
}
