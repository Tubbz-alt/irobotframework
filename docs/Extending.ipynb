{
 "cells": [
  {
   "cell_type": "markdown",
   "metadata": {},
   "source": [
    "# Extend\n",
    "Like its parent, `ipykernel`, `irobotframework` is extensible via a number of mechanisms."
   ]
  },
  {
   "cell_type": "markdown",
   "metadata": {},
   "source": [
    "## Magics\n",
    "\n",
    "`irobotframework` ships with two magic functions, `%%python module` and `%%tidy`.\n",
    "\n",
    "Any python module, such as a test library, can extend these behaviors with `register_robot_cell_magic`."
   ]
  },
  {
   "cell_type": "code",
   "execution_count": null,
   "metadata": {},
   "outputs": [],
   "source": [
    "%%python module MagicShout\n",
    "from irobotframework import register_robot_cell_magic\n",
    "\n",
    "def magic_shout(code, **kwargs):\n",
    "    return dict(\n",
    "        status=\"ok\", payload=[\n",
    "            dict(source=\"set_next_input\", \n",
    "                 text=\"\\n\".join(code.upper().split(\"\\n\")[1:]), \n",
    "                 replace=True)\n",
    "        ]\n",
    "    )\n",
    "\n",
    "register_robot_cell_magic(\"SHOUT\", r\"%%SHOUT\", magic_shout)"
   ]
  },
  {
   "cell_type": "markdown",
   "metadata": {},
   "source": [
    "Now, executing a cell that starts with `%%SHOUT` will update the cell to be all upper case. The above example returns a raw [execution result](https://jupyter-client.readthedocs.io/en/stable/messaging.html#execute), and so the code won't actually be executed. Returning a string will execute the code as normal, but not change the code.\n",
    "```robotframework\n",
    "%%SHOUT\n",
    "*** tasks ***\n",
    "unrelenting force\n",
    "    log  fus ro dah\n",
    "```\n",
    "Would yield the following:\n",
    "```robotframework\n",
    "*** TASKS ***\n",
    "UNRELENTING FORCE\n",
    "    LOG  FUS RO DAH\n",
    "```"
   ]
  },
  {
   "cell_type": "markdown",
   "metadata": {},
   "source": [
    "## Unmagic\n",
    "If, for some reason, you'd like to remove a magic, you can do so with `unregister_robot_cell_magic`:"
   ]
  },
  {
   "cell_type": "code",
   "execution_count": null,
   "metadata": {},
   "outputs": [],
   "source": [
    "%%python module Shush\n",
    "from irobotframework import unregister_robot_cell_magic\n",
    "\n",
    "unregister_robot_cell_magic(r\"SHOUT\")"
   ]
  },
  {
   "cell_type": "markdown",
   "metadata": {},
   "source": [
    "Now, you can't `%%SHOUT` anymore."
   ]
  },
  {
   "cell_type": "markdown",
   "metadata": {},
   "source": [
    "## Completions\n",
    "\n",
    "Code completion is provided for a number of Robot Framework features:\n",
    "\n",
    "- magics\n",
    "- table names\n",
    "- importable libraries\n",
    "- suite and test/task settings\n",
    "- locally-defined variables\n",
    "- keywords\n",
    "\n",
    "These can be extended, again at the python level, with `register_robot_completion_finder`, which return a tuple of a simple list for more basic implementations and the `_jupyter_types_experimental` type:"
   ]
  },
  {
   "cell_type": "code",
   "execution_count": null,
   "metadata": {},
   "outputs": [],
   "source": [
    "%%python module WuFinder\n",
    "# typing for good luck\n",
    "from typing import List, Tuple\n",
    "\n",
    "from irobotframework.completer import Completer\n",
    "from irobotframework import register_robot_completion_finder\n",
    "\n",
    "def complete_wu_tang_discography(\n",
    "    completer: Completer,\n",
    "    line: str,\n",
    "    code: str,\n",
    "    cursor_pos: int,\n",
    "    line_cursor: int,\n",
    "    offset: int,\n",
    "    history: List[str],\n",
    ") -> Tuple[List[str], List[dict]]:\n",
    "    if line.strip().endswith(\"Wu\"):\n",
    "        matches = [\n",
    "            f\"{line[:line_cursor-2]}{album}\"\n",
    "            for album in [\n",
    "                \"Enter the Wu-Tang (36 Chambers)\",\n",
    "                \"Wu-Tang Forever\",\n",
    "                \"The W\",\n",
    "                \"Iron Flag\",\n",
    "                \"8 Diagrams\",\n",
    "                \"A Better Tomorrow\",\n",
    "                \"Once Upon a Time in Shaolin\"\n",
    "            ]\n",
    "        ]\n",
    "        return matches, [\n",
    "            {\n",
    "                \"start\": cursor_pos,\n",
    "                \"end\": offset + len(line),\n",
    "                \"type\": \"wu-tang album\",\n",
    "                \"text\": m,\n",
    "            }\n",
    "            for m in matches\n",
    "        ],\n",
    "    return [], []\n",
    "    \n",
    "\n",
    "register_robot_completion_finder(complete_wu_tang_discography)"
   ]
  },
  {
   "cell_type": "markdown",
   "metadata": {},
   "source": [
    "Now, pressing <kbd>TAB</kbd> on a line that ends with `Wu` will give back a number of different options."
   ]
  },
  {
   "cell_type": "code",
   "execution_count": null,
   "metadata": {},
   "outputs": [],
   "source": [
    "*** Test Case **\n",
    "Check out an album\n",
    "    Log  Wu"
   ]
  },
  {
   "cell_type": "markdown",
   "metadata": {},
   "source": [
    "### Prioritize\n",
    "Additionally, you can pass a `before` or `after` completion finder (such as the defaults from `irobotframework.completion_finders`)."
   ]
  },
  {
   "cell_type": "markdown",
   "metadata": {},
   "source": [
    "### Uncomplete\n",
    "Once again, you can `register_robot_completion_finder`:"
   ]
  },
  {
   "cell_type": "code",
   "execution_count": null,
   "metadata": {},
   "outputs": [],
   "source": [
    "%%python module WuFinder\n",
    "from irobotframework import unregister_robot_completion_finder\n",
    "import WuFinder\n",
    "    \n",
    "unregister_robot_completion_finder(WuFinder.complete_wu_tang_discography)"
   ]
  },
  {
   "cell_type": "markdown",
   "metadata": {},
   "source": [
    "## Inspections\n",
    "\n",
    "> TBD"
   ]
  }
 ],
 "metadata": {
  "kernelspec": {
   "display_name": "Robot Framework",
   "language": "robotframework",
   "name": "robotframework"
  },
  "language_info": {
   "codemirror_mode": {
    "name": "Robot Framework"
   },
   "display_name": "Robot Framework",
   "file_extension": ".robot",
   "language": "robotframework",
   "mimetype": "text/x-robotframework",
   "name": "robotframework",
   "pygments_lexer": "robotframework",
   "version": "0.4.1"
  }
 },
 "nbformat": 4,
 "nbformat_minor": 2
}
