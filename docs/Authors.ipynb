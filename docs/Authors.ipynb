{
 "cells": [
  {
   "cell_type": "markdown",
   "metadata": {},
   "source": [
    "# Thank\n",
    "Thanks to everyone who made this possible!"
   ]
  },
  {
   "cell_type": "markdown",
   "metadata": {},
   "source": [
    "## Maintainers\n",
    "\n",
    "- Nicholas Bollweg, Georgia Tech Research Institute"
   ]
  },
  {
   "cell_type": "markdown",
   "metadata": {},
   "source": [
    "## Contributors\n",
    "\n",
    "- Asko Soukka\n",
    "  - original author of [robotkernel](https://github.com/datakurre/robotkernel)"
   ]
  },
  {
   "cell_type": "markdown",
   "metadata": {},
   "source": [
    "## Shoutsout\n",
    "\n",
    "- [Robot Framework](https://github.com/robotframework/robotframework)\n",
    "  - language internals\n",
    "- [IPython](https://github.com/ipython/ipython)\n",
    "  - interactivity features\n",
    "  - modular architecture\n",
    "- [JupyterLab](https://github.com/jupyterlab/jupyterlab)\n",
    "  - editing environment\n",
    "- [importnb](https://github.com/deathbeds/importnb)\n",
    "  - importable Python notebooks"
   ]
  }
 ],
 "metadata": {
  "kernelspec": {
   "display_name": "Robot Framework",
   "language": "robotframework",
   "name": "robotframework"
  },
  "language_info": {
   "codemirror_mode": {
    "name": "Robot Framework"
   },
   "display_name": "Robot Framework",
   "file_extension": ".robot",
   "language": "robotframework",
   "mimetype": "text/x-robotframework",
   "name": "robotframework",
   "pygments_lexer": "robotframework",
   "version": "0.5.0"
  }
 },
 "nbformat": 4,
 "nbformat_minor": 2
}
