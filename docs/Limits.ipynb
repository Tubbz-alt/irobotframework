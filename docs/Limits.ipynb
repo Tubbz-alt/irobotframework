{
 "cells": [
  {
   "cell_type": "markdown",
   "metadata": {},
   "source": [
    "# Limits\n",
    "\n",
    "This is pretty new stuff, and we're still learning what it means to do interactive robot testing and process automation. If you discover any other limitations, please reach out with a [GitHub issue](https://github.com/gtri/irobotframework/issues). Or, if you've got (or want to get) what it takes to add new features, take a look at the [contributing guide](./Contributing.ipynb)!"
   ]
  },
  {
   "cell_type": "markdown",
   "metadata": {},
   "source": [
    "## Embedded Python\n",
    "\n",
    "Using `%%python module MyLibrary` can't complete locally-imported or -defined\n",
    "names very well, as the inner scope isn't available.\n",
    "\n",
    "> Looking into alternate approaches\n",
    "\n",
    "> Workaround: sometimes, I can get `MyLibrary.foo` to complete."
   ]
  },
  {
   "cell_type": "markdown",
   "metadata": {},
   "source": [
    "## Syntax highlighting\n",
    "\n",
    "While the syntax highlighting is the best we could do, and seems to be more\n",
    "robust than the [brackets](https://github.com/boakley/brackets-robotframework)\n",
    "or the [atom](https://atom.io/packages/language-robot-framework) schemes,\n",
    "Some constructions are pretty hard to parse.\n",
    "\n",
    "Please submit new issues, or better still, PRs that fix the issues."
   ]
  },
  {
   "cell_type": "markdown",
   "metadata": {},
   "source": [
    "## Test Templates\n",
    "\n",
    "Below, `X` and `Y` will be highlighted as keywords\n",
    "\n",
    "```robotframework\n",
    "*** Test Cases ***\n",
    "Template Tests\n",
    "    [Template] Log\n",
    "    X\n",
    "    Y\n",
    "```\n",
    "\n",
    "> Workaround: No ideas yet"
   ]
  },
  {
   "cell_type": "markdown",
   "metadata": {},
   "source": [
    "## Pipe-delimited Continuation of test/keyword definitions\n",
    "\n",
    "Below, the documentation will just be interpreted as strings\n",
    "\n",
    "```\n",
    "| *Test Case* |\n",
    "| My Test | [Documentation] | This code\n",
    "```\n",
    "\n",
    "> Workaround: Just break to a new line"
   ]
  }
 ],
 "metadata": {
  "kernelspec": {
   "display_name": "Robot Framework",
   "language": "robotframework",
   "name": "robotframework"
  },
  "language_info": {
   "codemirror_mode": {
    "name": "Robot Framework"
   },
   "display_name": "Robot Framework",
   "file_extension": ".robot",
   "language": "robotframework",
   "mimetype": "text/x-robotframework",
   "name": "robotframework",
   "pygments_lexer": "robotframework",
   "version": "0.5.0"
  }
 },
 "nbformat": 4,
 "nbformat_minor": 2
}
